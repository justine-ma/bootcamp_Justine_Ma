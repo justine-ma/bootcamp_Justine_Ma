{
 "cells": [
  {
   "cell_type": "code",
   "execution_count": 1,
   "id": "423b1401-2510-429c-a4c7-88b7ad578100",
   "metadata": {},
   "outputs": [
    {
     "name": "stdout",
     "output_type": "stream",
     "text": [
      "Hello, Bootcamp!\n"
     ]
    }
   ],
   "source": [
    "print(\"Hello, Bootcamp!\")"
   ]
  },
  {
   "cell_type": "code",
   "execution_count": null,
   "id": "bc888e5f-8977-4adf-a897-5e946dc44e63",
   "metadata": {},
   "outputs": [],
   "source": []
  }
 ],
 "metadata": {
  "kernelspec": {
   "display_name": "Python 3 (ipykernel)",
   "language": "python",
   "name": "python3"
  },
  "language_info": {
   "codemirror_mode": {
    "name": "ipython",
    "version": 3
   },
   "file_extension": ".py",
   "mimetype": "text/x-python",
   "name": "python",
   "nbconvert_exporter": "python",
   "pygments_lexer": "ipython3",
   "version": "3.10.18"
  }
 },
 "nbformat": 4,
 "nbformat_minor": 5
}
